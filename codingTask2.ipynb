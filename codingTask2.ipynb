{
  "nbformat": 4,
  "nbformat_minor": 0,
  "metadata": {
    "colab": {
      "name": "Untitled0.ipynb",
      "provenance": [],
      "authorship_tag": "ABX9TyMdZ8SEmUG9HlzBeQVnrDA9",
      "include_colab_link": true
    },
    "kernelspec": {
      "name": "python3",
      "display_name": "Python 3"
    },
    "language_info": {
      "name": "python"
    }
  },
  "cells": [
    {
      "cell_type": "markdown",
      "metadata": {
        "id": "view-in-github",
        "colab_type": "text"
      },
      "source": [
        "<a href=\"https://colab.research.google.com/github/PStettler/DSF-DCBP-Philip-Stettler/blob/main/codingTask2.ipynb\" target=\"_parent\"><img src=\"https://colab.research.google.com/assets/colab-badge.svg\" alt=\"Open In Colab\"/></a>"
      ]
    },
    {
      "cell_type": "markdown",
      "source": [
        "<h1> Coding Task 2 - Philip Stettler </h1>"
      ],
      "metadata": {
        "id": "R-dDdYaiAWHo"
      }
    },
    {
      "cell_type": "markdown",
      "source": [
        "<p> Loading of all packes we need: </p>"
      ],
      "metadata": {
        "id": "7Gqx1A8zAs6s"
      }
    },
    {
      "cell_type": "code",
      "source": [
        "import numpy as np\n",
        "import matplotlib.pyplot as plt\n",
        "import skimage.io as io\n",
        "import skimage.filters as skf #useful functions for filtering\n",
        "import skimage.morphology as skm #functions for size/shape specification\n",
        "import os #for loop file import"
      ],
      "metadata": {
        "id": "KKpyakMtAz00"
      },
      "execution_count": 5,
      "outputs": []
    },
    {
      "cell_type": "markdown",
      "source": [
        "<p> Import Images and convert them to .png files </p>"
      ],
      "metadata": {
        "id": "Win-aHQeAg6G"
      }
    },
    {
      "cell_type": "code",
      "source": [
        "#as in notebook 11 (source from github), one approach to convert the files is via PIL:\n",
        "!pip install pillow_heif \n",
        "from PIL import Image\n",
        "import pillow_heif\n",
        "\n",
        "from google.colab import drive\n",
        "drive.mount('/content/drive')"
      ],
      "metadata": {
        "id": "3Vf7jJ55AfD6",
        "outputId": "c4e2c7c9-ded0-40a8-feb0-2eb3d0f8cf18",
        "colab": {
          "base_uri": "https://localhost:8080/"
        }
      },
      "execution_count": 4,
      "outputs": [
        {
          "output_type": "stream",
          "name": "stdout",
          "text": [
            "Requirement already satisfied: pillow_heif in /usr/local/lib/python3.7/dist-packages (0.2.3)\n",
            "Requirement already satisfied: cffi>=1.14.6 in /usr/local/lib/python3.7/dist-packages (from pillow_heif) (1.15.0)\n",
            "Requirement already satisfied: pillow>=6.0.0 in /usr/local/lib/python3.7/dist-packages (from pillow_heif) (7.1.2)\n",
            "Requirement already satisfied: pycparser in /usr/local/lib/python3.7/dist-packages (from cffi>=1.14.6->pillow_heif) (2.21)\n",
            "Drive already mounted at /content/drive; to attempt to forcibly remount, call drive.mount(\"/content/drive\", force_remount=True).\n"
          ]
        }
      ]
    },
    {
      "cell_type": "code",
      "source": [
        "folder  = '/content/drive/MyDrive/ImagesDSF/'\n",
        "\n",
        "for image in os.listdir(folder):\n",
        "  url_name = image\n",
        "  heif_file = pillow_heif.read(folder+url_name)\n",
        "  image = Image.frombytes(heif_file.mode,heif_file.size,heif_file.data,\"raw\",)\n",
        "  url_name = url_name.split('.')[0]+'.png'\n",
        "  image.save(folder+url_name, format=\"png\")\n",
        "  #this is not very efficient, took ~1min 30 sec to run"
      ],
      "metadata": {
        "id": "oY33icbeDlPr"
      },
      "execution_count": 7,
      "outputs": []
    },
    {
      "cell_type": "markdown",
      "source": [
        "<h4> With some filtering and sthresholding, write a function which converts the colored bins into nice white segments on a black background for one image. </h4>"
      ],
      "metadata": {
        "id": "Pd74W9GGElob"
      }
    },
    {
      "cell_type": "code",
      "source": [
        "#loading one of the images and showing the B channel\n",
        "url_name = 'IMG_5380.png'\n",
        "imageRGB  = io.imread(image_folder+url_name)\n",
        "plt.imshow(imageRGB)\n",
        "image = imageRGB[:,:,2]\n",
        "print(f'Image shape: {imageRGB.shape,image.shape}')\n",
        "\n",
        "#plotting image\n",
        "plt.figure(figsize=(10,10))\n",
        "plt.show()\n",
        "\n",
        "#cropping so I only see the lower part, changing color to gray\n",
        "image = image[image.shape[0]//2:image.shape[0],:]\n",
        "print(f'Image shape: {image.shape}')\n",
        "plt.imshow(image, cmap ='gray')\n",
        "plt.show()"
      ],
      "metadata": {
        "id": "id4By0GSuXsE",
        "colab": {
          "base_uri": "https://localhost:8080/"
        },
        "outputId": "c22b1619-8b75-4007-f4f7-8108da8dcbc7"
      },
      "execution_count": null,
      "outputs": [
        {
          "output_type": "stream",
          "name": "stdout",
          "text": [
            "Drive already mounted at /content/drive; to attempt to forcibly remount, call drive.mount(\"/content/drive\", force_remount=True).\n"
          ]
        }
      ]
    }
  ]
}