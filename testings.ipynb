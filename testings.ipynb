{
  "nbformat": 4,
  "nbformat_minor": 0,
  "metadata": {
    "colab": {
      "name": "Untitled0.ipynb",
      "provenance": [],
      "authorship_tag": "ABX9TyNg683718NenQn/Nq8jKN86",
      "include_colab_link": true
    },
    "kernelspec": {
      "name": "python3",
      "display_name": "Python 3"
    },
    "language_info": {
      "name": "python"
    }
  },
  "cells": [
    {
      "cell_type": "markdown",
      "metadata": {
        "id": "view-in-github",
        "colab_type": "text"
      },
      "source": [
        "<a href=\"https://colab.research.google.com/github/PStettler/DSF-DCBP-Philip-Stettler/blob/main/testings.ipynb\" target=\"_parent\"><img src=\"https://colab.research.google.com/assets/colab-badge.svg\" alt=\"Open In Colab\"/></a>"
      ]
    },
    {
      "cell_type": "code",
      "execution_count": null,
      "metadata": {
        "colab": {
          "base_uri": "https://localhost:8080/"
        },
        "id": "_lJy0huCxFws",
        "outputId": "184cdaa3-cf09-481c-ec8f-d4d9cbdc470e"
      },
      "outputs": [
        {
          "output_type": "stream",
          "name": "stdout",
          "text": [
            "hello world\n"
          ]
        }
      ],
      "source": [
        "#test\n",
        "print('hello world')"
      ]
    },
    {
      "cell_type": "markdown",
      "source": [
        "This is normal text..."
      ],
      "metadata": {
        "id": "eL9RxD9mxWgy"
      }
    },
    {
      "cell_type": "code",
      "source": [
        "#this is code\n",
        "z = \"ABCDEF\"\n",
        "for i in z:\n",
        "  for j in range(1,len(z)):\n",
        "    print(i,j,sep=\"-\")"
      ],
      "metadata": {
        "colab": {
          "base_uri": "https://localhost:8080/"
        },
        "id": "QzmW_QaKxcKd",
        "outputId": "556f80bf-76de-4235-9a63-17644463f68b"
      },
      "execution_count": null,
      "outputs": [
        {
          "output_type": "stream",
          "name": "stdout",
          "text": [
            "A-1\n",
            "A-2\n",
            "A-3\n",
            "A-4\n",
            "A-5\n",
            "B-1\n",
            "B-2\n",
            "B-3\n",
            "B-4\n",
            "B-5\n",
            "C-1\n",
            "C-2\n",
            "C-3\n",
            "C-4\n",
            "C-5\n",
            "D-1\n",
            "D-2\n",
            "D-3\n",
            "D-4\n",
            "D-5\n",
            "E-1\n",
            "E-2\n",
            "E-3\n",
            "E-4\n",
            "E-5\n",
            "F-1\n",
            "F-2\n",
            "F-3\n",
            "F-4\n",
            "F-5\n"
          ]
        }
      ]
    },
    {
      "cell_type": "code",
      "source": [
        "#other for loop options\n",
        "x = [\"Apple\",\"Banana\",\"Lemon\",\"Grapes\"]\n",
        "for z in x:\n",
        "  print(z)"
      ],
      "metadata": {
        "colab": {
          "base_uri": "https://localhost:8080/"
        },
        "id": "nWWmVe5PyBOr",
        "outputId": "e994338f-d690-4f9e-b6c5-dd39aad180d2"
      },
      "execution_count": null,
      "outputs": [
        {
          "output_type": "stream",
          "name": "stdout",
          "text": [
            "Apple\n",
            "Banana\n",
            "Lemon\n",
            "Grapes\n"
          ]
        }
      ]
    },
    {
      "cell_type": "code",
      "source": [
        "#other for loop options\n",
        "for i in range(10):\n",
        "  print(i**2)"
      ],
      "metadata": {
        "colab": {
          "base_uri": "https://localhost:8080/"
        },
        "id": "tD3ZfKSlysbR",
        "outputId": "f9355d92-cbe2-49d5-961a-032c1d535911"
      },
      "execution_count": null,
      "outputs": [
        {
          "output_type": "stream",
          "name": "stdout",
          "text": [
            "0\n",
            "1\n",
            "4\n",
            "9\n",
            "16\n",
            "25\n",
            "36\n",
            "49\n",
            "64\n",
            "81\n"
          ]
        }
      ]
    }
  ]
}