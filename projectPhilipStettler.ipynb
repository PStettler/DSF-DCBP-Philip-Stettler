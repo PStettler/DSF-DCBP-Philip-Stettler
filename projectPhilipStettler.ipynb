{
  "nbformat": 4,
  "nbformat_minor": 0,
  "metadata": {
    "colab": {
      "name": "Untitled0.ipynb",
      "provenance": [],
      "authorship_tag": "ABX9TyOXmsgtiCtIJUIWrYKOzcQu",
      "include_colab_link": true
    },
    "kernelspec": {
      "name": "python3",
      "display_name": "Python 3"
    },
    "language_info": {
      "name": "python"
    }
  },
  "cells": [
    {
      "cell_type": "markdown",
      "metadata": {
        "id": "view-in-github",
        "colab_type": "text"
      },
      "source": [
        "<a href=\"https://colab.research.google.com/github/PStettler/DSF-DCBP-Philip-Stettler/blob/main/projectPhilipStettler.ipynb\" target=\"_parent\"><img src=\"https://colab.research.google.com/assets/colab-badge.svg\" alt=\"Open In Colab\"/></a>"
      ]
    },
    {
      "cell_type": "markdown",
      "source": [
        "<h2>Notebook for DSF Project Group 8, Philip Stettler</h2>"
      ],
      "metadata": {
        "id": "PxkJea8lavUI"
      }
    },
    {
      "cell_type": "markdown",
      "source": [
        "<h3>getting startet, downloaded all these open source software </h3>"
      ],
      "metadata": {
        "id": "BDmBU97Ra_MV"
      }
    },
    {
      "cell_type": "markdown",
      "source": [
        "Putty from https://www.putty.org/\n",
        "FileZilla from https://filezilla-project.org/\n"
      ],
      "metadata": {
        "id": "rnE1ki-7bOug"
      }
    },
    {
      "cell_type": "markdown",
      "source": [
        "asked for access to UBELIX via: https://hpc-unibe-ch.github.io/\n",
        "\n",
        "got access to Chemzilla directly from Sacha Javor\n",
        "\n",
        "aked for access to University super computer UBELIX via a ticket on: \n",
        "https://serviceportal.unibe.ch/sp?id=sc_cat_item&sys_id=1d137767db54141078ed3e48229619a7&tech=hpc\n",
        "\n",
        "permission received on the same day:\n",
        "You can now log in to UBELIX: 'ssh *campusAccount*@submit.unibe.ch'\n",
        "\n",
        "looked at the beginner steps for UBELIX under https://hpc-unibe-ch.github.io//quick-start.html and ran a Hello_World job as described on the web-page."
      ],
      "metadata": {
        "id": "HqaMSv4Cbv-5"
      }
    }
  ]
}