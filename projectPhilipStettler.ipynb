{
  "nbformat": 4,
  "nbformat_minor": 0,
  "metadata": {
    "colab": {
      "name": "Untitled0.ipynb",
      "provenance": [],
      "authorship_tag": "ABX9TyNeG9x2xOjVPY5EovsWUYTf",
      "include_colab_link": true
    },
    "kernelspec": {
      "name": "python3",
      "display_name": "Python 3"
    },
    "language_info": {
      "name": "python"
    }
  },
  "cells": [
    {
      "cell_type": "markdown",
      "metadata": {
        "id": "view-in-github",
        "colab_type": "text"
      },
      "source": [
        "<a href=\"https://colab.research.google.com/github/PStettler/DSF-DCBP-Philip-Stettler/blob/main/projectPhilipStettler.ipynb\" target=\"_parent\"><img src=\"https://colab.research.google.com/assets/colab-badge.svg\" alt=\"Open In Colab\"/></a>"
      ]
    },
    {
      "cell_type": "markdown",
      "source": [
        "<h1>Notebook for DSF Project Group 8, Philip Stettler</h1>"
      ],
      "metadata": {
        "id": "PxkJea8lavUI"
      }
    },
    {
      "cell_type": "markdown",
      "source": [
        "<h3>getting startet, downloaded all these open source software </h3>"
      ],
      "metadata": {
        "id": "BDmBU97Ra_MV"
      }
    },
    {
      "cell_type": "markdown",
      "source": [
        "Putty from https://www.putty.org/\n",
        "FileZilla from https://filezilla-project.org/\n"
      ],
      "metadata": {
        "id": "rnE1ki-7bOug"
      }
    },
    {
      "cell_type": "markdown",
      "source": [
        "asked for access to UBELIX via: https://hpc-unibe-ch.github.io/\n",
        "\n",
        "got access to Chemzilla directly from Sacha Javor, IP address and account and password shall not be mentionned here as this notebook is nopen to public.\n",
        "\n",
        "aked for access to University super computer UBELIX via a ticket on: \n",
        "https://serviceportal.unibe.ch/sp?id=sc_cat_item&sys_id=1d137767db54141078ed3e48229619a7&tech=hpc\n",
        "\n",
        "permission received on the same day:\n",
        "You can now log in to UBELIX: 'ssh *campusAccount*@submit.unibe.ch'\n",
        "\n",
        "looked at the beginner steps for UBELIX under https://hpc-unibe-ch.github.io//quick-start.html and ran a Hello_World job as described on the web-page."
      ],
      "metadata": {
        "id": "HqaMSv4Cbv-5"
      }
    },
    {
      "cell_type": "markdown",
      "source": [
        "<h2> Running a Hello World Job on UBELIX </h2>\n",
        "I connected to the UBELIX cluster dierectly from the Chemzilla server.\n",
        "\n",
        "Type: ssh \"username\"@submit.unibe.ch\n",
        "you are then asked for the passwrd (the one for unibe account)\n",
        "\n",
        "the connection can be terminated typing Ctrl + d\n",
        "\n",
        "I first had to share the file first.sh with my directory at UBELIX. This, as well as the content of file first.sh is described under the quick-start link above. I ran into problems because I first created the first.sh file on my windows machine. But somehow, windows uses \\r\\n line breaks and linux uses \\n lines breaks. So, I created the file on the linux powered Chemzilla server and shared it again with UBELIX, now named first2.sh. This worked.\n",
        "\n",
        "I submitted my first job to UBELIX by:\n",
        "\n",
        "sbatch first2.sh\n",
        "\n",
        "This job recieved batch number 24972121. \n",
        "\n",
        "After 10 minutes I checked on the status of my job with:\n",
        "\n",
        "squeue --job=24972121\n",
        "\n",
        "the job was not finished by then."
      ],
      "metadata": {
        "id": "oqCNsq4DQIDo"
      }
    },
    {
      "cell_type": "markdown",
      "source": [
        "<h2> Performing the lysozym tutorial for protein structure 2upj </h2>\n",
        "\n",
        "lysozyme tutorial is found under: http://www.mdtutorials.com/gmx/\n",
        "\n",
        "a pre cleaned file of the 2upj structure was provided by Sacha Javor via email.\n",
        "\n",
        "The file was shared with Chemzilla using FileZilla (use Port 22 for connection). Doubble clicking on files shares them with the destination server.\n",
        "\n",
        "Then, the tutorial was followed step by step until \"production MD\". The command line of GROMACS can be opened via Ctrl+Alt+T. All steps worked and no errors occured. The files are stored under Home of the group8 account. For the tutorial, multiple .mpd files had to be transferred to the server again via FileZilla. These files could be downloaded as plain text and were copied into the Windows Text editor and saved as .mdp files."
      ],
      "metadata": {
        "id": "3LdovtLRq5iH"
      }
    },
    {
      "cell_type": "markdown",
      "source": [
        ""
      ],
      "metadata": {
        "id": "e80jvFg8Sww7"
      }
    }
  ]
}