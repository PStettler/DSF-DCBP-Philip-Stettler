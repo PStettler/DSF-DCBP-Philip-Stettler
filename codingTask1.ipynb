{
  "nbformat": 4,
  "nbformat_minor": 0,
  "metadata": {
    "colab": {
      "name": "Untitled0.ipynb",
      "provenance": [],
      "authorship_tag": "ABX9TyNKu2J2oSs8jOx3fVKy/MKu",
      "include_colab_link": true
    },
    "kernelspec": {
      "name": "python3",
      "display_name": "Python 3"
    },
    "language_info": {
      "name": "python"
    }
  },
  "cells": [
    {
      "cell_type": "markdown",
      "metadata": {
        "id": "view-in-github",
        "colab_type": "text"
      },
      "source": [
        "<a href=\"https://colab.research.google.com/github/PStettler/DSF-DCBP-Philip-Stettler/blob/main/codingTask1.ipynb\" target=\"_parent\"><img src=\"https://colab.research.google.com/assets/colab-badge.svg\" alt=\"Open In Colab\"/></a>"
      ]
    },
    {
      "cell_type": "code",
      "source": [
        "from google.colab import drive\n",
        "drive.mount('/content/drive')\n",
        "path = '/content/drive/MyDrive/DataScienceFundamentals2022/4ms_10 av_30 s_Absorbance_10-32-04-868 (1).txt'"
      ],
      "metadata": {
        "id": "id4By0GSuXsE",
        "colab": {
          "base_uri": "https://localhost:8080/"
        },
        "outputId": "ce7bed1c-8bfe-4bba-e9c2-a72f505c11a2"
      },
      "execution_count": 81,
      "outputs": [
        {
          "output_type": "stream",
          "name": "stdout",
          "text": [
            "Drive already mounted at /content/drive; to attempt to forcibly remount, call drive.mount(\"/content/drive\", force_remount=True).\n"
          ]
        }
      ]
    },
    {
      "cell_type": "markdown",
      "source": [
        "Task 1: Write a method (function) which removes the header information in the datafile and saves that information into a separate textfile. [0.5 points]"
      ],
      "metadata": {
        "id": "k2ArM1ZT1cH-"
      }
    },
    {
      "cell_type": "code",
      "source": [
        "numberOfTextRows = 13\n",
        "def import_metadata(textLines = numberOfTextRows, path = path):\n",
        "  import pandas as pd\n",
        "  metadata = str(pd.read_csv(path, delimiter='\\t',nrows=textLines-1, header = None))\n",
        "  with open('metadata.txt', 'w') as outstream:\n",
        "    outstream.write(metadata)\n",
        "  "
      ],
      "metadata": {
        "id": "unWIOEzhfdOc"
      },
      "execution_count": 14,
      "outputs": []
    },
    {
      "cell_type": "code",
      "source": [
        "import_metadata()"
      ],
      "metadata": {
        "id": "N-XetRzrvnhH"
      },
      "execution_count": 82,
      "outputs": []
    },
    {
      "cell_type": "code",
      "source": [
        "with open('metadata.txt', 'r') as instream:\n",
        "     textlines = instream.readlines()\n",
        "for i in range(numberOfTextRows):\n",
        "     print(textlines[i])"
      ],
      "metadata": {
        "colab": {
          "base_uri": "https://localhost:8080/"
        },
        "id": "F4Fk3Qs09I9e",
        "outputId": "39a7e3a2-1f54-4168-af61-7b70f9616c0a"
      },
      "execution_count": 83,
      "outputs": [
        {
          "output_type": "stream",
          "name": "stdout",
          "text": [
            "                                                    0\n",
            "\n",
            "0   Data from 4ms_10 av_15 s_Absorbance_10-32-04-8...\n",
            "\n",
            "1                 Date: Thu Oct 25 10:32:04 CEST 2018\n",
            "\n",
            "2                                     User: Christoph\n",
            "\n",
            "3                              Spectrometer: BALLMOOS\n",
            "\n",
            "4                                     Trigger mode: 4\n",
            "\n",
            "5                 Integration Time (sec): 4.000000E-3\n",
            "\n",
            "6                                Scans to average: 10\n",
            "\n",
            "7              Electric dark correction enabled: true\n",
            "\n",
            "8              Nonlinearity correction enabled: false\n",
            "\n",
            "9                                     Boxcar width: 0\n",
            "\n",
            "10                            XAxis mode: Wavelengths\n",
            "\n",
            "11                 Number of Pixels in Spectrum: 3648\n"
          ]
        }
      ]
    },
    {
      "cell_type": "markdown",
      "source": [
        "Task 2: Write a function which reduces the data resolution by averaging over 1, 2, 3 and 4 nm wavelengths. Save these 4 new reduced datasets in new files. Do this (1) by writing an explicit loop and (2) by using pandas methods. Measure the running times of the two approaches. [6 points]"
      ],
      "metadata": {
        "id": "qySoEowu9vLP"
      }
    },
    {
      "cell_type": "code",
      "source": [
        "import pandas as pd\n",
        "df = pd.read_csv(path, delimiter = '\\t', header= 13)\n",
        "\n",
        "def reduce(data = df, step = 4):\n",
        "  jump = round(step/0.1355)\n",
        "  df_means = pd.DataFrame()\n",
        "  for i in range(2,len(data.columns)-jump,jump):\n",
        "    df_means[data.columns[i][0:3]] = (data.iloc[:, range(i,i+jump-1)].mean(axis=1))\n",
        "  return(df_means)\n",
        "\n"
      ],
      "metadata": {
        "id": "pAoiLUWQ9__H"
      },
      "execution_count": 90,
      "outputs": []
    },
    {
      "cell_type": "code",
      "source": [
        "%%timeit -n 10 -r 5 \n",
        "reduce(step=2).head()"
      ],
      "metadata": {
        "colab": {
          "base_uri": "https://localhost:8080/"
        },
        "id": "s90RnpGtPbaJ",
        "outputId": "977040aa-e92a-4a5f-fc25-44d19b2f3945"
      },
      "execution_count": 91,
      "outputs": [
        {
          "output_type": "stream",
          "name": "stderr",
          "text": [
            "/usr/local/lib/python3.7/dist-packages/ipykernel_launcher.py:8: PerformanceWarning: DataFrame is highly fragmented.  This is usually the result of calling `frame.insert` many times, which has poor performance.  Consider joining all columns at once using pd.concat(axis=1) instead.  To get a de-fragmented frame, use `newframe = frame.copy()`\n",
            "  \n"
          ]
        },
        {
          "output_type": "stream",
          "name": "stdout",
          "text": [
            "10 loops, best of 5: 207 ms per loop\n"
          ]
        }
      ]
    },
    {
      "cell_type": "markdown",
      "source": [
        "Task 3: Write a function which takes two wavelengths as input and plots the difference of the data at these lengths over time. [2 points]"
      ],
      "metadata": {
        "id": "RmZpkPt8r_ms"
      }
    },
    {
      "cell_type": "code",
      "source": [
        "import numpy as np\n",
        "import matplotlib.pyplot as plt\n",
        "def difference(data = df, col1 = 2, col2 = 100):\n",
        "  dif = df.iloc[:,col1].values - df.iloc[:,col2].values\n",
        "  fig, ax = plt.subplots()\n",
        "  ax.plot(df.iloc[:,1].values, dif,'o');\n",
        "  plt.ylabel(\"difference\");\n",
        "  plt.xlabel(\"seconds\");\n",
        "  plt.title(\"The Title\");\n",
        "  plt.legend(['Data']);\n",
        "  plt.savefig('pathToFilename.png')"
      ],
      "metadata": {
        "id": "ftLtU8npsAqF"
      },
      "execution_count": 148,
      "outputs": []
    },
    {
      "cell_type": "code",
      "source": [
        "difference()"
      ],
      "metadata": {
        "colab": {
          "base_uri": "https://localhost:8080/",
          "height": 295
        },
        "id": "9AB0vs90_MdG",
        "outputId": "dc45a0a4-3260-44be-f5e2-ba60b8a9a1ff"
      },
      "execution_count": 149,
      "outputs": [
        {
          "output_type": "display_data",
          "data": {
            "image/png": "[encoded data removed]",
            "text/plain": [
              "<Figure size 432x288 with 1 Axes>"
            ]
          },
          "metadata": {
            "needs_background": "light"
          }
        }
      ]
    },
    {
      "cell_type": "markdown",
      "source": [
        "Plot the full and the reduced datasets in the same figure. Is there any visual difference? [2 points]"
      ],
      "metadata": {
        "id": "atFXJfaIEUf1"
      }
    },
    {
      "cell_type": "code",
      "source": [
        "red_2nm = reduce(step=2)\n",
        "fig, ax = plt.subplots()\n",
        "ax.plot(df.iloc[:,1].values,red_2nm.iloc[:,0].values,'bo');\n",
        "ax.plot(df.iloc[:,1].values,df.iloc[:,2:17].values,'rx')\n",
        "ax.plot(df.iloc[:,1].values,red_2nm.iloc[:,0].values,'bo');\n",
        "plt.legend(['averageOver2nm','rawdata']);"
      ],
      "metadata": {
        "colab": {
          "base_uri": "https://localhost:8080/",
          "height": 333
        },
        "id": "l0eDVEu__csd",
        "outputId": "7870f533-035e-47f6-cc82-0e4b4558d589"
      },
      "execution_count": 167,
      "outputs": [
        {
          "output_type": "stream",
          "name": "stderr",
          "text": [
            "/usr/local/lib/python3.7/dist-packages/ipykernel_launcher.py:8: PerformanceWarning: DataFrame is highly fragmented.  This is usually the result of calling `frame.insert` many times, which has poor performance.  Consider joining all columns at once using pd.concat(axis=1) instead.  To get a de-fragmented frame, use `newframe = frame.copy()`\n",
            "  \n"
          ]
        },
        {
          "output_type": "display_data",
          "data": {
            "image/png": "[encoded data removed]",
            "text/plain": [
              "<Figure size 432x288 with 1 Axes>"
            ]
          },
          "metadata": {
            "needs_background": "light"
          }
        }
      ]
    },
    {
      "cell_type": "code",
      "source": [
        "2/0.1355"
      ],
      "metadata": {
        "id": "2vrwfcE3I7RK",
        "outputId": "9b19502d-99e7-444c-f687-75b8ed7487d6",
        "colab": {
          "base_uri": "https://localhost:8080/"
        }
      },
      "execution_count": 162,
      "outputs": [
        {
          "output_type": "execute_result",
          "data": {
            "text/plain": [
              "14.760147601476014"
            ]
          },
          "metadata": {},
          "execution_count": 162
        }
      ]
    }
  ]
}