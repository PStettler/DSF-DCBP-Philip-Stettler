{
  "nbformat": 4,
  "nbformat_minor": 0,
  "metadata": {
    "colab": {
      "name": "Untitled0.ipynb",
      "provenance": [],
      "authorship_tag": "ABX9TyORgNiBXCoCSBPt5oWH5VU6",
      "include_colab_link": true
    },
    "kernelspec": {
      "name": "python3",
      "display_name": "Python 3"
    },
    "language_info": {
      "name": "python"
    }
  },
  "cells": [
    {
      "cell_type": "markdown",
      "metadata": {
        "id": "view-in-github",
        "colab_type": "text"
      },
      "source": [
        "<a href=\"https://colab.research.google.com/github/PStettler/DSF-DCBP-Philip-Stettler/blob/main/codingTask1.ipynb\" target=\"_parent\"><img src=\"https://colab.research.google.com/assets/colab-badge.svg\" alt=\"Open In Colab\"/></a>"
      ]
    },
    {
      "cell_type": "code",
      "source": [
        "from google.colab import drive\n",
        "drive.mount('/content/drive')\n",
        "path = '/content/drive/MyDrive/DataScienceFundamentals2022/4ms_10 av_30 s_Absorbance_10-32-04-868 (1).txt'"
      ],
      "metadata": {
        "id": "id4By0GSuXsE",
        "colab": {
          "base_uri": "https://localhost:8080/"
        },
        "outputId": "c22b1619-8b75-4007-f4f7-8108da8dcbc7"
      },
      "execution_count": 18,
      "outputs": [
        {
          "output_type": "stream",
          "name": "stdout",
          "text": [
            "Drive already mounted at /content/drive; to attempt to forcibly remount, call drive.mount(\"/content/drive\", force_remount=True).\n"
          ]
        }
      ]
    },
    {
      "cell_type": "markdown",
      "source": [
        "Task 1: Write a method (function) which removes the header information in the datafile and saves that information into a separate textfile. [0.5 points]"
      ],
      "metadata": {
        "id": "k2ArM1ZT1cH-"
      }
    },
    {
      "cell_type": "code",
      "source": [
        "numberOfTextRows = 13\n",
        "def import_metadata(textLines = numberOfTextRows, path = path):\n",
        "  import pandas as pd\n",
        "  metadata = str(pd.read_csv(path, delimiter='\\t',nrows=textLines-1, header = None))\n",
        "  with open('metadata.txt', 'w') as outstream:\n",
        "    outstream.write(metadata)\n",
        "  "
      ],
      "metadata": {
        "id": "unWIOEzhfdOc"
      },
      "execution_count": null,
      "outputs": []
    },
    {
      "cell_type": "code",
      "source": [
        "import_metadata()"
      ],
      "metadata": {
        "id": "N-XetRzrvnhH"
      },
      "execution_count": null,
      "outputs": []
    },
    {
      "cell_type": "code",
      "source": [
        "with open('metadata.txt', 'r') as instream:\n",
        "     textlines = instream.readlines()\n",
        "for i in range(numberOfTextRows):\n",
        "     print(textlines[i])"
      ],
      "metadata": {
        "colab": {
          "base_uri": "https://localhost:8080/"
        },
        "id": "F4Fk3Qs09I9e",
        "outputId": "39a7e3a2-1f54-4168-af61-7b70f9616c0a"
      },
      "execution_count": null,
      "outputs": [
        {
          "output_type": "stream",
          "name": "stdout",
          "text": [
            "                                                    0\n",
            "\n",
            "0   Data from 4ms_10 av_15 s_Absorbance_10-32-04-8...\n",
            "\n",
            "1                 Date: Thu Oct 25 10:32:04 CEST 2018\n",
            "\n",
            "2                                     User: Christoph\n",
            "\n",
            "3                              Spectrometer: BALLMOOS\n",
            "\n",
            "4                                     Trigger mode: 4\n",
            "\n",
            "5                 Integration Time (sec): 4.000000E-3\n",
            "\n",
            "6                                Scans to average: 10\n",
            "\n",
            "7              Electric dark correction enabled: true\n",
            "\n",
            "8              Nonlinearity correction enabled: false\n",
            "\n",
            "9                                     Boxcar width: 0\n",
            "\n",
            "10                            XAxis mode: Wavelengths\n",
            "\n",
            "11                 Number of Pixels in Spectrum: 3648\n"
          ]
        }
      ]
    },
    {
      "cell_type": "markdown",
      "source": [
        "Task 2: Write a function which reduces the data resolution by averaging over 1, 2, 3 and 4 nm wavelengths. Save these 4 new reduced datasets in new files. Do this (1) by writing an explicit loop and (2) by using pandas methods. Measure the running times of the two approaches. [6 points]"
      ],
      "metadata": {
        "id": "qySoEowu9vLP"
      }
    },
    {
      "cell_type": "code",
      "source": [
        "import pandas as pd\n",
        "df = pd.read_csv(path, delimiter = '\\t', header= 13)\n",
        "\n",
        "def reduce(data = df, step = 4, method=\"panda\"): #methods are panda or neanderthal\n",
        "  jump = round(step/(float(data.columns[3])-float(data.columns[2]))) #get distance between nm wavelength measurements\n",
        "  df_means = pd.DataFrame()\n",
        "  if method == \"panda\":\n",
        "    for i in range(2,len(data.columns)-jump,jump):\n",
        "      df_means[data.columns[i][0:3]] = (data.iloc[:, range(i,i+jump-1)].mean(axis=1))\n",
        "      #df_means.to_csv('reduced_data.csv', index=False) #saving makes the calculation much slower\n",
        "    return(df_means)\n",
        "  elif method == \"neanderthal\":\n",
        "    for j in range(0,len(data.index)):\n",
        "      for i in range(2,len(data.columns)-jump,jump):\n",
        "       df_means.loc[j,data.columns[i][0:3]] = data.iloc[j,range(i,i+jump-1)].mean()\n",
        "       #df_means.to_csv('reduced_data.csv', index=False) #saving makes the calulation much slower\n",
        "    return(df_means)\n",
        "\n",
        "\n",
        "\n"
      ],
      "metadata": {
        "id": "pAoiLUWQ9__H"
      },
      "execution_count": 19,
      "outputs": []
    },
    {
      "cell_type": "code",
      "source": [
        "%%timeit -n 10 -r 5\n",
        "reduce(step=4).head()"
      ],
      "metadata": {
        "id": "SMmBNLLXyiCU",
        "outputId": "e20614ca-2acc-4250-ba1e-71ed6f6ffaa0",
        "colab": {
          "base_uri": "https://localhost:8080/"
        }
      },
      "execution_count": null,
      "outputs": [
        {
          "output_type": "stream",
          "name": "stderr",
          "text": [
            "/usr/local/lib/python3.7/dist-packages/ipykernel_launcher.py:9: PerformanceWarning: DataFrame is highly fragmented.  This is usually the result of calling `frame.insert` many times, which has poor performance.  Consider joining all columns at once using pd.concat(axis=1) instead.  To get a de-fragmented frame, use `newframe = frame.copy()`\n",
            "  if __name__ == '__main__':\n"
          ]
        },
        {
          "output_type": "stream",
          "name": "stdout",
          "text": [
            "10 loops, best of 5: 106 ms per loop\n"
          ]
        }
      ]
    },
    {
      "cell_type": "code",
      "source": [
        "%%timeit -n 1 -r 3\n",
        "reduce(step=4, method=\"neanderthal\").head() #super slow"
      ],
      "metadata": {
        "id": "GAzwZf-o3ftV",
        "outputId": "0b174146-885a-47bf-f50e-a5558cdc3031",
        "colab": {
          "base_uri": "https://localhost:8080/"
        }
      },
      "execution_count": null,
      "outputs": [
        {
          "output_type": "stream",
          "name": "stderr",
          "text": [
            "/usr/local/lib/python3.7/dist-packages/pandas/core/indexing.py:1684: PerformanceWarning: DataFrame is highly fragmented.  This is usually the result of calling `frame.insert` many times, which has poor performance.  Consider joining all columns at once using pd.concat(axis=1) instead.  To get a de-fragmented frame, use `newframe = frame.copy()`\n",
            "  self.obj[key] = infer_fill_value(value)\n"
          ]
        },
        {
          "output_type": "stream",
          "name": "stdout",
          "text": [
            "1 loop, best of 3: 1min 34s per loop\n"
          ]
        }
      ]
    },
    {
      "cell_type": "code",
      "source": [
        "reduce(step=10).head()"
      ],
      "metadata": {
        "id": "__LfTUti4YP5",
        "outputId": "a6320eda-5794-4f0e-ef4e-a213c4304ae1",
        "colab": {
          "base_uri": "https://localhost:8080/",
          "height": 299
        }
      },
      "execution_count": null,
      "outputs": [
        {
          "output_type": "execute_result",
          "data": {
            "text/plain": [
              "        316       326       336       346       356       366       376  \\\n",
              "0 -0.018490  0.048565  0.062623  0.211462  0.350705  0.322842  0.437315   \n",
              "1  0.262276  0.026836  0.201308  0.614741  0.441661  0.432296  0.481400   \n",
              "2 -0.054789  0.045395  0.161697  0.338626  0.418543  0.397636  0.474875   \n",
              "3  0.042318  0.014055  0.080012  0.267288  0.336035  0.341843  0.438091   \n",
              "4  0.003267  0.092358  0.088837  0.211805  0.331123  0.310795  0.420119   \n",
              "\n",
              "        386       396       405  ...       688       697       706       715  \\\n",
              "0  0.646928  1.025390  1.237870  ... -0.044350 -0.044042 -0.043280 -0.044981   \n",
              "1  0.679682  1.065417  1.300122  ... -0.044461 -0.044006 -0.043457 -0.045116   \n",
              "2  0.688765  1.083736  1.298780  ... -0.044245 -0.044158 -0.043483 -0.045274   \n",
              "3  0.653731  1.042373  1.276775  ... -0.043737 -0.043457 -0.042663 -0.044799   \n",
              "4  0.641696  1.014449  1.233021  ... -0.044112 -0.043731 -0.043096 -0.045042   \n",
              "\n",
              "        724       733       742       751       759       768  \n",
              "0 -0.043405 -0.041209 -0.040155 -0.040363 -0.039986 -0.038578  \n",
              "1 -0.043621 -0.041162 -0.040301 -0.040711 -0.040170 -0.038503  \n",
              "2 -0.043384 -0.041433 -0.040195 -0.040766 -0.040408 -0.038389  \n",
              "3 -0.042832 -0.040540 -0.039830 -0.039914 -0.039473 -0.038029  \n",
              "4 -0.043242 -0.041048 -0.039912 -0.040353 -0.039893 -0.038466  \n",
              "\n",
              "[5 rows x 49 columns]"
            ],
            "text/html": [
              "\n",
              "  <div id=\"df-0bf26bb8-eea3-488e-8c06-43afbf5cde4f\">\n",
              "    <div class=\"colab-df-container\">\n",
              "      <div>\n",
              "<style scoped>\n",
              "    .dataframe tbody tr th:only-of-type {\n",
              "        vertical-align: middle;\n",
              "    }\n",
              "\n",
              "    .dataframe tbody tr th {\n",
              "        vertical-align: top;\n",
              "    }\n",
              "\n",
              "    .dataframe thead th {\n",
              "        text-align: right;\n",
              "    }\n",
              "</style>\n",
              "<table border=\"1\" class=\"dataframe\">\n",
              "  <thead>\n",
              "    <tr style=\"text-align: right;\">\n",
              "      <th></th>\n",
              "      <th>316</th>\n",
              "      <th>326</th>\n",
              "      <th>336</th>\n",
              "      <th>346</th>\n",
              "      <th>356</th>\n",
              "      <th>366</th>\n",
              "      <th>376</th>\n",
              "      <th>386</th>\n",
              "      <th>396</th>\n",
              "      <th>405</th>\n",
              "      <th>...</th>\n",
              "      <th>688</th>\n",
              "      <th>697</th>\n",
              "      <th>706</th>\n",
              "      <th>715</th>\n",
              "      <th>724</th>\n",
              "      <th>733</th>\n",
              "      <th>742</th>\n",
              "      <th>751</th>\n",
              "      <th>759</th>\n",
              "      <th>768</th>\n",
              "    </tr>\n",
              "  </thead>\n",
              "  <tbody>\n",
              "    <tr>\n",
              "      <th>0</th>\n",
              "      <td>-0.018490</td>\n",
              "      <td>0.048565</td>\n",
              "      <td>0.062623</td>\n",
              "      <td>0.211462</td>\n",
              "      <td>0.350705</td>\n",
              "      <td>0.322842</td>\n",
              "      <td>0.437315</td>\n",
              "      <td>0.646928</td>\n",
              "      <td>1.025390</td>\n",
              "      <td>1.237870</td>\n",
              "      <td>...</td>\n",
              "      <td>-0.044350</td>\n",
              "      <td>-0.044042</td>\n",
              "      <td>-0.043280</td>\n",
              "      <td>-0.044981</td>\n",
              "      <td>-0.043405</td>\n",
              "      <td>-0.041209</td>\n",
              "      <td>-0.040155</td>\n",
              "      <td>-0.040363</td>\n",
              "      <td>-0.039986</td>\n",
              "      <td>-0.038578</td>\n",
              "    </tr>\n",
              "    <tr>\n",
              "      <th>1</th>\n",
              "      <td>0.262276</td>\n",
              "      <td>0.026836</td>\n",
              "      <td>0.201308</td>\n",
              "      <td>0.614741</td>\n",
              "      <td>0.441661</td>\n",
              "      <td>0.432296</td>\n",
              "      <td>0.481400</td>\n",
              "      <td>0.679682</td>\n",
              "      <td>1.065417</td>\n",
              "      <td>1.300122</td>\n",
              "      <td>...</td>\n",
              "      <td>-0.044461</td>\n",
              "      <td>-0.044006</td>\n",
              "      <td>-0.043457</td>\n",
              "      <td>-0.045116</td>\n",
              "      <td>-0.043621</td>\n",
              "      <td>-0.041162</td>\n",
              "      <td>-0.040301</td>\n",
              "      <td>-0.040711</td>\n",
              "      <td>-0.040170</td>\n",
              "      <td>-0.038503</td>\n",
              "    </tr>\n",
              "    <tr>\n",
              "      <th>2</th>\n",
              "      <td>-0.054789</td>\n",
              "      <td>0.045395</td>\n",
              "      <td>0.161697</td>\n",
              "      <td>0.338626</td>\n",
              "      <td>0.418543</td>\n",
              "      <td>0.397636</td>\n",
              "      <td>0.474875</td>\n",
              "      <td>0.688765</td>\n",
              "      <td>1.083736</td>\n",
              "      <td>1.298780</td>\n",
              "      <td>...</td>\n",
              "      <td>-0.044245</td>\n",
              "      <td>-0.044158</td>\n",
              "      <td>-0.043483</td>\n",
              "      <td>-0.045274</td>\n",
              "      <td>-0.043384</td>\n",
              "      <td>-0.041433</td>\n",
              "      <td>-0.040195</td>\n",
              "      <td>-0.040766</td>\n",
              "      <td>-0.040408</td>\n",
              "      <td>-0.038389</td>\n",
              "    </tr>\n",
              "    <tr>\n",
              "      <th>3</th>\n",
              "      <td>0.042318</td>\n",
              "      <td>0.014055</td>\n",
              "      <td>0.080012</td>\n",
              "      <td>0.267288</td>\n",
              "      <td>0.336035</td>\n",
              "      <td>0.341843</td>\n",
              "      <td>0.438091</td>\n",
              "      <td>0.653731</td>\n",
              "      <td>1.042373</td>\n",
              "      <td>1.276775</td>\n",
              "      <td>...</td>\n",
              "      <td>-0.043737</td>\n",
              "      <td>-0.043457</td>\n",
              "      <td>-0.042663</td>\n",
              "      <td>-0.044799</td>\n",
              "      <td>-0.042832</td>\n",
              "      <td>-0.040540</td>\n",
              "      <td>-0.039830</td>\n",
              "      <td>-0.039914</td>\n",
              "      <td>-0.039473</td>\n",
              "      <td>-0.038029</td>\n",
              "    </tr>\n",
              "    <tr>\n",
              "      <th>4</th>\n",
              "      <td>0.003267</td>\n",
              "      <td>0.092358</td>\n",
              "      <td>0.088837</td>\n",
              "      <td>0.211805</td>\n",
              "      <td>0.331123</td>\n",
              "      <td>0.310795</td>\n",
              "      <td>0.420119</td>\n",
              "      <td>0.641696</td>\n",
              "      <td>1.014449</td>\n",
              "      <td>1.233021</td>\n",
              "      <td>...</td>\n",
              "      <td>-0.044112</td>\n",
              "      <td>-0.043731</td>\n",
              "      <td>-0.043096</td>\n",
              "      <td>-0.045042</td>\n",
              "      <td>-0.043242</td>\n",
              "      <td>-0.041048</td>\n",
              "      <td>-0.039912</td>\n",
              "      <td>-0.040353</td>\n",
              "      <td>-0.039893</td>\n",
              "      <td>-0.038466</td>\n",
              "    </tr>\n",
              "  </tbody>\n",
              "</table>\n",
              "<p>5 rows × 49 columns</p>\n",
              "</div>\n",
              "      <button class=\"colab-df-convert\" onclick=\"convertToInteractive('df-0bf26bb8-eea3-488e-8c06-43afbf5cde4f')\"\n",
              "              title=\"Convert this dataframe to an interactive table.\"\n",
              "              style=\"display:none;\">\n",
              "        \n",
              "  <svg xmlns=\"http://www.w3.org/2000/svg\" height=\"24px\"viewBox=\"0 0 24 24\"\n",
              "       width=\"24px\">\n",
              "    <path d=\"M0 0h24v24H0V0z\" fill=\"none\"/>\n",
              "    <path d=\"M18.56 5.44l.94 2.06.94-2.06 2.06-.94-2.06-.94-.94-2.06-.94 2.06-2.06.94zm-11 1L8.5 8.5l.94-2.06 2.06-.94-2.06-.94L8.5 2.5l-.94 2.06-2.06.94zm10 10l.94 2.06.94-2.06 2.06-.94-2.06-.94-.94-2.06-.94 2.06-2.06.94z\"/><path d=\"M17.41 7.96l-1.37-1.37c-.4-.4-.92-.59-1.43-.59-.52 0-1.04.2-1.43.59L10.3 9.45l-7.72 7.72c-.78.78-.78 2.05 0 2.83L4 21.41c.39.39.9.59 1.41.59.51 0 1.02-.2 1.41-.59l7.78-7.78 2.81-2.81c.8-.78.8-2.07 0-2.86zM5.41 20L4 18.59l7.72-7.72 1.47 1.35L5.41 20z\"/>\n",
              "  </svg>\n",
              "      </button>\n",
              "      \n",
              "  <style>\n",
              "    .colab-df-container {\n",
              "      display:flex;\n",
              "      flex-wrap:wrap;\n",
              "      gap: 12px;\n",
              "    }\n",
              "\n",
              "    .colab-df-convert {\n",
              "      background-color: #E8F0FE;\n",
              "      border: none;\n",
              "      border-radius: 50%;\n",
              "      cursor: pointer;\n",
              "      display: none;\n",
              "      fill: #1967D2;\n",
              "      height: 32px;\n",
              "      padding: 0 0 0 0;\n",
              "      width: 32px;\n",
              "    }\n",
              "\n",
              "    .colab-df-convert:hover {\n",
              "      background-color: #E2EBFA;\n",
              "      box-shadow: 0px 1px 2px rgba(60, 64, 67, 0.3), 0px 1px 3px 1px rgba(60, 64, 67, 0.15);\n",
              "      fill: #174EA6;\n",
              "    }\n",
              "\n",
              "    [theme=dark] .colab-df-convert {\n",
              "      background-color: #3B4455;\n",
              "      fill: #D2E3FC;\n",
              "    }\n",
              "\n",
              "    [theme=dark] .colab-df-convert:hover {\n",
              "      background-color: #434B5C;\n",
              "      box-shadow: 0px 1px 3px 1px rgba(0, 0, 0, 0.15);\n",
              "      filter: drop-shadow(0px 1px 2px rgba(0, 0, 0, 0.3));\n",
              "      fill: #FFFFFF;\n",
              "    }\n",
              "  </style>\n",
              "\n",
              "      <script>\n",
              "        const buttonEl =\n",
              "          document.querySelector('#df-0bf26bb8-eea3-488e-8c06-43afbf5cde4f button.colab-df-convert');\n",
              "        buttonEl.style.display =\n",
              "          google.colab.kernel.accessAllowed ? 'block' : 'none';\n",
              "\n",
              "        async function convertToInteractive(key) {\n",
              "          const element = document.querySelector('#df-0bf26bb8-eea3-488e-8c06-43afbf5cde4f');\n",
              "          const dataTable =\n",
              "            await google.colab.kernel.invokeFunction('convertToInteractive',\n",
              "                                                     [key], {});\n",
              "          if (!dataTable) return;\n",
              "\n",
              "          const docLinkHtml = 'Like what you see? Visit the ' +\n",
              "            '<a target=\"_blank\" href=https://colab.research.google.com/notebooks/data_table.ipynb>data table notebook</a>'\n",
              "            + ' to learn more about interactive tables.';\n",
              "          element.innerHTML = '';\n",
              "          dataTable['output_type'] = 'display_data';\n",
              "          await google.colab.output.renderOutput(dataTable, element);\n",
              "          const docLink = document.createElement('div');\n",
              "          docLink.innerHTML = docLinkHtml;\n",
              "          element.appendChild(docLink);\n",
              "        }\n",
              "      </script>\n",
              "    </div>\n",
              "  </div>\n",
              "  "
            ]
          },
          "metadata": {},
          "execution_count": 4
        }
      ]
    },
    {
      "cell_type": "code",
      "source": [
        "reduce(step=10, method=\"neanderthal\").head() #identical results"
      ],
      "metadata": {
        "id": "B1lGeNN22Rqu",
        "outputId": "dd8027a1-8d55-46ce-ddc0-d26210a71037",
        "colab": {
          "base_uri": "https://localhost:8080/",
          "height": 299
        }
      },
      "execution_count": null,
      "outputs": [
        {
          "output_type": "execute_result",
          "data": {
            "text/plain": [
              "        316       326       336       346       356       366       376  \\\n",
              "0 -0.018490  0.048565  0.062623  0.211462  0.350705  0.322842  0.437315   \n",
              "1  0.262276  0.026836  0.201308  0.614741  0.441661  0.432296  0.481400   \n",
              "2 -0.054789  0.045395  0.161697  0.338626  0.418543  0.397636  0.474875   \n",
              "3  0.042318  0.014055  0.080012  0.267288  0.336035  0.341843  0.438091   \n",
              "4  0.003267  0.092358  0.088837  0.211805  0.331123  0.310795  0.420119   \n",
              "\n",
              "        386       396       405  ...       688       697       706       715  \\\n",
              "0  0.646928  1.025390  1.237870  ... -0.044350 -0.044042 -0.043280 -0.044981   \n",
              "1  0.679682  1.065417  1.300122  ... -0.044461 -0.044006 -0.043457 -0.045116   \n",
              "2  0.688765  1.083736  1.298780  ... -0.044245 -0.044158 -0.043483 -0.045274   \n",
              "3  0.653731  1.042373  1.276775  ... -0.043737 -0.043457 -0.042663 -0.044799   \n",
              "4  0.641696  1.014449  1.233021  ... -0.044112 -0.043731 -0.043096 -0.045042   \n",
              "\n",
              "        724       733       742       751       759       768  \n",
              "0 -0.043405 -0.041209 -0.040155 -0.040363 -0.039986 -0.038578  \n",
              "1 -0.043621 -0.041162 -0.040301 -0.040711 -0.040170 -0.038503  \n",
              "2 -0.043384 -0.041433 -0.040195 -0.040766 -0.040408 -0.038389  \n",
              "3 -0.042832 -0.040540 -0.039830 -0.039914 -0.039473 -0.038029  \n",
              "4 -0.043242 -0.041048 -0.039912 -0.040353 -0.039893 -0.038466  \n",
              "\n",
              "[5 rows x 49 columns]"
            ],
            "text/html": [
              "\n",
              "  <div id=\"df-f4313734-3f8f-450c-92b7-3ee9d0757a70\">\n",
              "    <div class=\"colab-df-container\">\n",
              "      <div>\n",
              "<style scoped>\n",
              "    .dataframe tbody tr th:only-of-type {\n",
              "        vertical-align: middle;\n",
              "    }\n",
              "\n",
              "    .dataframe tbody tr th {\n",
              "        vertical-align: top;\n",
              "    }\n",
              "\n",
              "    .dataframe thead th {\n",
              "        text-align: right;\n",
              "    }\n",
              "</style>\n",
              "<table border=\"1\" class=\"dataframe\">\n",
              "  <thead>\n",
              "    <tr style=\"text-align: right;\">\n",
              "      <th></th>\n",
              "      <th>316</th>\n",
              "      <th>326</th>\n",
              "      <th>336</th>\n",
              "      <th>346</th>\n",
              "      <th>356</th>\n",
              "      <th>366</th>\n",
              "      <th>376</th>\n",
              "      <th>386</th>\n",
              "      <th>396</th>\n",
              "      <th>405</th>\n",
              "      <th>...</th>\n",
              "      <th>688</th>\n",
              "      <th>697</th>\n",
              "      <th>706</th>\n",
              "      <th>715</th>\n",
              "      <th>724</th>\n",
              "      <th>733</th>\n",
              "      <th>742</th>\n",
              "      <th>751</th>\n",
              "      <th>759</th>\n",
              "      <th>768</th>\n",
              "    </tr>\n",
              "  </thead>\n",
              "  <tbody>\n",
              "    <tr>\n",
              "      <th>0</th>\n",
              "      <td>-0.018490</td>\n",
              "      <td>0.048565</td>\n",
              "      <td>0.062623</td>\n",
              "      <td>0.211462</td>\n",
              "      <td>0.350705</td>\n",
              "      <td>0.322842</td>\n",
              "      <td>0.437315</td>\n",
              "      <td>0.646928</td>\n",
              "      <td>1.025390</td>\n",
              "      <td>1.237870</td>\n",
              "      <td>...</td>\n",
              "      <td>-0.044350</td>\n",
              "      <td>-0.044042</td>\n",
              "      <td>-0.043280</td>\n",
              "      <td>-0.044981</td>\n",
              "      <td>-0.043405</td>\n",
              "      <td>-0.041209</td>\n",
              "      <td>-0.040155</td>\n",
              "      <td>-0.040363</td>\n",
              "      <td>-0.039986</td>\n",
              "      <td>-0.038578</td>\n",
              "    </tr>\n",
              "    <tr>\n",
              "      <th>1</th>\n",
              "      <td>0.262276</td>\n",
              "      <td>0.026836</td>\n",
              "      <td>0.201308</td>\n",
              "      <td>0.614741</td>\n",
              "      <td>0.441661</td>\n",
              "      <td>0.432296</td>\n",
              "      <td>0.481400</td>\n",
              "      <td>0.679682</td>\n",
              "      <td>1.065417</td>\n",
              "      <td>1.300122</td>\n",
              "      <td>...</td>\n",
              "      <td>-0.044461</td>\n",
              "      <td>-0.044006</td>\n",
              "      <td>-0.043457</td>\n",
              "      <td>-0.045116</td>\n",
              "      <td>-0.043621</td>\n",
              "      <td>-0.041162</td>\n",
              "      <td>-0.040301</td>\n",
              "      <td>-0.040711</td>\n",
              "      <td>-0.040170</td>\n",
              "      <td>-0.038503</td>\n",
              "    </tr>\n",
              "    <tr>\n",
              "      <th>2</th>\n",
              "      <td>-0.054789</td>\n",
              "      <td>0.045395</td>\n",
              "      <td>0.161697</td>\n",
              "      <td>0.338626</td>\n",
              "      <td>0.418543</td>\n",
              "      <td>0.397636</td>\n",
              "      <td>0.474875</td>\n",
              "      <td>0.688765</td>\n",
              "      <td>1.083736</td>\n",
              "      <td>1.298780</td>\n",
              "      <td>...</td>\n",
              "      <td>-0.044245</td>\n",
              "      <td>-0.044158</td>\n",
              "      <td>-0.043483</td>\n",
              "      <td>-0.045274</td>\n",
              "      <td>-0.043384</td>\n",
              "      <td>-0.041433</td>\n",
              "      <td>-0.040195</td>\n",
              "      <td>-0.040766</td>\n",
              "      <td>-0.040408</td>\n",
              "      <td>-0.038389</td>\n",
              "    </tr>\n",
              "    <tr>\n",
              "      <th>3</th>\n",
              "      <td>0.042318</td>\n",
              "      <td>0.014055</td>\n",
              "      <td>0.080012</td>\n",
              "      <td>0.267288</td>\n",
              "      <td>0.336035</td>\n",
              "      <td>0.341843</td>\n",
              "      <td>0.438091</td>\n",
              "      <td>0.653731</td>\n",
              "      <td>1.042373</td>\n",
              "      <td>1.276775</td>\n",
              "      <td>...</td>\n",
              "      <td>-0.043737</td>\n",
              "      <td>-0.043457</td>\n",
              "      <td>-0.042663</td>\n",
              "      <td>-0.044799</td>\n",
              "      <td>-0.042832</td>\n",
              "      <td>-0.040540</td>\n",
              "      <td>-0.039830</td>\n",
              "      <td>-0.039914</td>\n",
              "      <td>-0.039473</td>\n",
              "      <td>-0.038029</td>\n",
              "    </tr>\n",
              "    <tr>\n",
              "      <th>4</th>\n",
              "      <td>0.003267</td>\n",
              "      <td>0.092358</td>\n",
              "      <td>0.088837</td>\n",
              "      <td>0.211805</td>\n",
              "      <td>0.331123</td>\n",
              "      <td>0.310795</td>\n",
              "      <td>0.420119</td>\n",
              "      <td>0.641696</td>\n",
              "      <td>1.014449</td>\n",
              "      <td>1.233021</td>\n",
              "      <td>...</td>\n",
              "      <td>-0.044112</td>\n",
              "      <td>-0.043731</td>\n",
              "      <td>-0.043096</td>\n",
              "      <td>-0.045042</td>\n",
              "      <td>-0.043242</td>\n",
              "      <td>-0.041048</td>\n",
              "      <td>-0.039912</td>\n",
              "      <td>-0.040353</td>\n",
              "      <td>-0.039893</td>\n",
              "      <td>-0.038466</td>\n",
              "    </tr>\n",
              "  </tbody>\n",
              "</table>\n",
              "<p>5 rows × 49 columns</p>\n",
              "</div>\n",
              "      <button class=\"colab-df-convert\" onclick=\"convertToInteractive('df-f4313734-3f8f-450c-92b7-3ee9d0757a70')\"\n",
              "              title=\"Convert this dataframe to an interactive table.\"\n",
              "              style=\"display:none;\">\n",
              "        \n",
              "  <svg xmlns=\"http://www.w3.org/2000/svg\" height=\"24px\"viewBox=\"0 0 24 24\"\n",
              "       width=\"24px\">\n",
              "    <path d=\"M0 0h24v24H0V0z\" fill=\"none\"/>\n",
              "    <path d=\"M18.56 5.44l.94 2.06.94-2.06 2.06-.94-2.06-.94-.94-2.06-.94 2.06-2.06.94zm-11 1L8.5 8.5l.94-2.06 2.06-.94-2.06-.94L8.5 2.5l-.94 2.06-2.06.94zm10 10l.94 2.06.94-2.06 2.06-.94-2.06-.94-.94-2.06-.94 2.06-2.06.94z\"/><path d=\"M17.41 7.96l-1.37-1.37c-.4-.4-.92-.59-1.43-.59-.52 0-1.04.2-1.43.59L10.3 9.45l-7.72 7.72c-.78.78-.78 2.05 0 2.83L4 21.41c.39.39.9.59 1.41.59.51 0 1.02-.2 1.41-.59l7.78-7.78 2.81-2.81c.8-.78.8-2.07 0-2.86zM5.41 20L4 18.59l7.72-7.72 1.47 1.35L5.41 20z\"/>\n",
              "  </svg>\n",
              "      </button>\n",
              "      \n",
              "  <style>\n",
              "    .colab-df-container {\n",
              "      display:flex;\n",
              "      flex-wrap:wrap;\n",
              "      gap: 12px;\n",
              "    }\n",
              "\n",
              "    .colab-df-convert {\n",
              "      background-color: #E8F0FE;\n",
              "      border: none;\n",
              "      border-radius: 50%;\n",
              "      cursor: pointer;\n",
              "      display: none;\n",
              "      fill: #1967D2;\n",
              "      height: 32px;\n",
              "      padding: 0 0 0 0;\n",
              "      width: 32px;\n",
              "    }\n",
              "\n",
              "    .colab-df-convert:hover {\n",
              "      background-color: #E2EBFA;\n",
              "      box-shadow: 0px 1px 2px rgba(60, 64, 67, 0.3), 0px 1px 3px 1px rgba(60, 64, 67, 0.15);\n",
              "      fill: #174EA6;\n",
              "    }\n",
              "\n",
              "    [theme=dark] .colab-df-convert {\n",
              "      background-color: #3B4455;\n",
              "      fill: #D2E3FC;\n",
              "    }\n",
              "\n",
              "    [theme=dark] .colab-df-convert:hover {\n",
              "      background-color: #434B5C;\n",
              "      box-shadow: 0px 1px 3px 1px rgba(0, 0, 0, 0.15);\n",
              "      filter: drop-shadow(0px 1px 2px rgba(0, 0, 0, 0.3));\n",
              "      fill: #FFFFFF;\n",
              "    }\n",
              "  </style>\n",
              "\n",
              "      <script>\n",
              "        const buttonEl =\n",
              "          document.querySelector('#df-f4313734-3f8f-450c-92b7-3ee9d0757a70 button.colab-df-convert');\n",
              "        buttonEl.style.display =\n",
              "          google.colab.kernel.accessAllowed ? 'block' : 'none';\n",
              "\n",
              "        async function convertToInteractive(key) {\n",
              "          const element = document.querySelector('#df-f4313734-3f8f-450c-92b7-3ee9d0757a70');\n",
              "          const dataTable =\n",
              "            await google.colab.kernel.invokeFunction('convertToInteractive',\n",
              "                                                     [key], {});\n",
              "          if (!dataTable) return;\n",
              "\n",
              "          const docLinkHtml = 'Like what you see? Visit the ' +\n",
              "            '<a target=\"_blank\" href=https://colab.research.google.com/notebooks/data_table.ipynb>data table notebook</a>'\n",
              "            + ' to learn more about interactive tables.';\n",
              "          element.innerHTML = '';\n",
              "          dataTable['output_type'] = 'display_data';\n",
              "          await google.colab.output.renderOutput(dataTable, element);\n",
              "          const docLink = document.createElement('div');\n",
              "          docLink.innerHTML = docLinkHtml;\n",
              "          element.appendChild(docLink);\n",
              "        }\n",
              "      </script>\n",
              "    </div>\n",
              "  </div>\n",
              "  "
            ]
          },
          "metadata": {},
          "execution_count": 11
        }
      ]
    },
    {
      "cell_type": "markdown",
      "source": [
        "Task 3: Write a function which takes two wavelengths as input and plots the difference of the data at these lengths over time. [2 points]"
      ],
      "metadata": {
        "id": "RmZpkPt8r_ms"
      }
    },
    {
      "cell_type": "code",
      "source": [
        "import numpy as np\n",
        "import matplotlib.pyplot as plt\n",
        "def difference_plt(data = df, col1 = 800, col2 = 2000):\n",
        "  dif = data.iloc[:,col1].values - data.iloc[:,col2].values\n",
        "  secs = (data.iloc[:,1] - data.iloc[0,1])/1000 #caculate the seconds from the time-stamps\n",
        "  fig, ax = plt.subplots()\n",
        "  ax.plot(secs, dif,'o');\n",
        "  plt.ylabel(\"difference\");\n",
        "  plt.xlabel(\"seconds\");\n",
        "  plt.title(\"The Title\");\n",
        "  plt.legend(['Data']);\n",
        "  plt.savefig('pathToFilename.png')"
      ],
      "metadata": {
        "id": "ftLtU8npsAqF"
      },
      "execution_count": 20,
      "outputs": []
    },
    {
      "cell_type": "code",
      "source": [
        "difference_plt()"
      ],
      "metadata": {
        "colab": {
          "base_uri": "https://localhost:8080/",
          "height": 295
        },
        "id": "9AB0vs90_MdG",
        "outputId": "1ee9e321-a23a-4834-f7be-069f8a13328a"
      },
      "execution_count": 21,
      "outputs": [
        {
          "output_type": "display_data",
          "data": {
            "text/plain": [
              "<Figure size 432x288 with 1 Axes>"
            ],
            "image/png": "[encoded data removed]"
          },
          "metadata": {
            "needs_background": "light"
          }
        }
      ]
    },
    {
      "cell_type": "markdown",
      "source": [
        "Plot the full and the reduced datasets in the same figure. Is there any visual difference? [2 points]"
      ],
      "metadata": {
        "id": "atFXJfaIEUf1"
      }
    },
    {
      "cell_type": "code",
      "source": [
        "red_2nm = reduce(step=2)\n",
        "secs = (df.iloc[:,1] - df.iloc[0,1])/1000\n",
        "fig, ax = plt.subplots()\n",
        "ax.plot(secs,red_2nm.iloc[:,0].values,'bo');\n",
        "ax.plot(secs,df.iloc[:,2:17].values,'rx')\n",
        "ax.plot(secs,red_2nm.iloc[:,0].values,'bo'); #wet but does the job...\n",
        "plt.legend(['averageOver2nm','rawdata']);"
      ],
      "metadata": {
        "colab": {
          "base_uri": "https://localhost:8080/",
          "height": 320
        },
        "id": "l0eDVEu__csd",
        "outputId": "127cf03a-0382-42ee-be94-467f3bb6d955"
      },
      "execution_count": null,
      "outputs": [
        {
          "output_type": "stream",
          "name": "stderr",
          "text": [
            "/usr/local/lib/python3.7/dist-packages/ipykernel_launcher.py:9: PerformanceWarning: DataFrame is highly fragmented.  This is usually the result of calling `frame.insert` many times, which has poor performance.  Consider joining all columns at once using pd.concat(axis=1) instead.  To get a de-fragmented frame, use `newframe = frame.copy()`\n",
            "  if __name__ == '__main__':\n"
          ]
        },
        {
          "output_type": "display_data",
          "data": {
            "text/plain": [
              "<Figure size 432x288 with 1 Axes>"
            ],
            "image/png": "[encoded data removed]"
          },
          "metadata": {
            "needs_background": "light"
          }
        }
      ]
    },
    {
      "cell_type": "code",
      "source": [
        "#measurements at individual wavelengths differ highly from the mean\n",
        "red_2nm = reduce(step=2)\n",
        "secs = (df.iloc[:,1] - df.iloc[0,1])/1000\n",
        "fig, ax = plt.subplots()\n",
        "ax.plot(secs,red_2nm.iloc[:,0].values,'bo');\n",
        "ax.plot(secs,df.iloc[:,2].values,'rx')\n",
        "plt.legend(['averageOver2nm','rawdata']);"
      ],
      "metadata": {
        "id": "GY-Mh9uOAvcs",
        "outputId": "da4a34b4-8dbd-46b5-b528-703011a31046",
        "colab": {
          "base_uri": "https://localhost:8080/",
          "height": 320
        }
      },
      "execution_count": null,
      "outputs": [
        {
          "output_type": "stream",
          "name": "stderr",
          "text": [
            "/usr/local/lib/python3.7/dist-packages/ipykernel_launcher.py:9: PerformanceWarning: DataFrame is highly fragmented.  This is usually the result of calling `frame.insert` many times, which has poor performance.  Consider joining all columns at once using pd.concat(axis=1) instead.  To get a de-fragmented frame, use `newframe = frame.copy()`\n",
            "  if __name__ == '__main__':\n"
          ]
        },
        {
          "output_type": "display_data",
          "data": {
            "text/plain": [
              "<Figure size 432x288 with 1 Axes>"
            ],
            "image/png": "[encoded data removed]"
          },
          "metadata": {
            "needs_background": "light"
          }
        }
      ]
    }
  ]
}