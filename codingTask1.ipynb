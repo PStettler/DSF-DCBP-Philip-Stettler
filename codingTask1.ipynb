{
  "nbformat": 4,
  "nbformat_minor": 0,
  "metadata": {
    "colab": {
      "name": "Untitled0.ipynb",
      "provenance": [],
      "authorship_tag": "ABX9TyNs811ztiyzNH6qhV3fRlap",
      "include_colab_link": true
    },
    "kernelspec": {
      "name": "python3",
      "display_name": "Python 3"
    },
    "language_info": {
      "name": "python"
    }
  },
  "cells": [
    {
      "cell_type": "markdown",
      "metadata": {
        "id": "view-in-github",
        "colab_type": "text"
      },
      "source": [
        "<a href=\"https://colab.research.google.com/github/PStettler/DSF-DCBP-Philip-Stettler/blob/main/codingTask1.ipynb\" target=\"_parent\"><img src=\"https://colab.research.google.com/assets/colab-badge.svg\" alt=\"Open In Colab\"/></a>"
      ]
    },
    {
      "cell_type": "code",
      "source": [
        "from google.colab import drive\n",
        "drive.mount('/content/drive')\n",
        "path = '/content/drive/MyDrive/DataScienceFundamentals2022/4ms_10 av_30 s_Absorbance_10-32-04-868 (1).txt'"
      ],
      "metadata": {
        "id": "id4By0GSuXsE",
        "colab": {
          "base_uri": "https://localhost:8080/"
        },
        "outputId": "b5944a21-bcb0-466d-bf18-48ff382022df"
      },
      "execution_count": 1,
      "outputs": [
        {
          "output_type": "stream",
          "name": "stdout",
          "text": [
            "Mounted at /content/drive\n"
          ]
        }
      ]
    },
    {
      "cell_type": "markdown",
      "source": [
        "Task 1: Write a method (function) which removes the header information in the datafile and saves that information into a separate textfile. [0.5 points]"
      ],
      "metadata": {
        "id": "k2ArM1ZT1cH-"
      }
    },
    {
      "cell_type": "code",
      "source": [
        "numberOfTextRows = 13\n",
        "def import_metadata(textLines = numberOfTextRows, path = path):\n",
        "  import pandas as pd\n",
        "  metadata = str(pd.read_csv(path, delimiter='\\t',nrows=textLines-1, header = None))\n",
        "  with open('metadata.txt', 'w') as outstream:\n",
        "    outstream.write(metadata)\n",
        "  "
      ],
      "metadata": {
        "id": "unWIOEzhfdOc"
      },
      "execution_count": 14,
      "outputs": []
    },
    {
      "cell_type": "code",
      "source": [
        "import_metadata()"
      ],
      "metadata": {
        "id": "N-XetRzrvnhH"
      },
      "execution_count": 15,
      "outputs": []
    },
    {
      "cell_type": "code",
      "source": [
        "with open('metadata.txt', 'r') as instream:\n",
        "     textlines = instream.readlines()\n",
        "for i in range(numberOfTextRows):\n",
        "     print(textlines[i])"
      ],
      "metadata": {
        "colab": {
          "base_uri": "https://localhost:8080/"
        },
        "id": "F4Fk3Qs09I9e",
        "outputId": "2d6c1908-fb18-4d8c-ed0a-bc56040468aa"
      },
      "execution_count": 21,
      "outputs": [
        {
          "output_type": "stream",
          "name": "stdout",
          "text": [
            "                                                    0\n",
            "\n",
            "0   Data from 4ms_10 av_15 s_Absorbance_10-32-04-8...\n",
            "\n",
            "1                 Date: Thu Oct 25 10:32:04 CEST 2018\n",
            "\n",
            "2                                     User: Christoph\n",
            "\n",
            "3                              Spectrometer: BALLMOOS\n",
            "\n",
            "4                                     Trigger mode: 4\n",
            "\n",
            "5                 Integration Time (sec): 4.000000E-3\n",
            "\n",
            "6                                Scans to average: 10\n",
            "\n",
            "7              Electric dark correction enabled: true\n",
            "\n",
            "8              Nonlinearity correction enabled: false\n",
            "\n",
            "9                                     Boxcar width: 0\n",
            "\n",
            "10                            XAxis mode: Wavelengths\n",
            "\n",
            "11                 Number of Pixels in Spectrum: 3648\n"
          ]
        }
      ]
    },
    {
      "cell_type": "markdown",
      "source": [
        "Task 2: Write a function which reduces the data resolution by averaging over 1, 2, 3 and 4 nm wavelengths. Save these 4 new reduced datasets in new files. Do this (1) by writing an explicit loop and (2) by using pandas methods. Measure the running times of the two approaches. [6 points]"
      ],
      "metadata": {
        "id": "qySoEowu9vLP"
      }
    },
    {
      "cell_type": "code",
      "source": [
        "import pandas as pd\n",
        "df = pd.read_csv(path, delimiter = '\\t', header= 13)\n",
        "df.head()\n",
        "def reduce(data = df, step = 4):\n",
        "  jump = round(step/0.1355)\n",
        "  df_means = pd.DataFrame()\n",
        "  for i in range(2,len(df.columns)-jump,jump):\n",
        "    df_means[df.columns[i][0:3]] = (df.iloc[:, range(i,i+jump-1)].mean(axis=1))\n",
        "  return(df_means)"
      ],
      "metadata": {
        "id": "pAoiLUWQ9__H"
      },
      "execution_count": 74,
      "outputs": []
    },
    {
      "cell_type": "code",
      "source": [
        "reduce(step=2).head()"
      ],
      "metadata": {
        "id": "s90RnpGtPbaJ",
        "outputId": "188f83ee-0e54-49bb-adab-3a6428c615cc",
        "colab": {
          "base_uri": "https://localhost:8080/",
          "height": 335
        }
      },
      "execution_count": 78,
      "outputs": [
        {
          "output_type": "stream",
          "name": "stderr",
          "text": [
            "/usr/local/lib/python3.7/dist-packages/ipykernel_launcher.py:8: PerformanceWarning: DataFrame is highly fragmented.  This is usually the result of calling `frame.insert` many times, which has poor performance.  Consider joining all columns at once using pd.concat(axis=1) instead.  To get a de-fragmented frame, use `newframe = frame.copy()`\n",
            "  \n"
          ]
        },
        {
          "output_type": "execute_result",
          "data": {
            "text/html": [
              "\n",
              "  <div id=\"df-27e07b8a-5d96-482a-847b-65b6b11adac0\">\n",
              "    <div class=\"colab-df-container\">\n",
              "      <div>\n",
              "<style scoped>\n",
              "    .dataframe tbody tr th:only-of-type {\n",
              "        vertical-align: middle;\n",
              "    }\n",
              "\n",
              "    .dataframe tbody tr th {\n",
              "        vertical-align: top;\n",
              "    }\n",
              "\n",
              "    .dataframe thead th {\n",
              "        text-align: right;\n",
              "    }\n",
              "</style>\n",
              "<table border=\"1\" class=\"dataframe\">\n",
              "  <thead>\n",
              "    <tr style=\"text-align: right;\">\n",
              "      <th></th>\n",
              "      <th>316</th>\n",
              "      <th>318</th>\n",
              "      <th>320</th>\n",
              "      <th>322</th>\n",
              "      <th>324</th>\n",
              "      <th>326</th>\n",
              "      <th>328</th>\n",
              "      <th>330</th>\n",
              "      <th>332</th>\n",
              "      <th>334</th>\n",
              "      <th>...</th>\n",
              "      <th>761</th>\n",
              "      <th>763</th>\n",
              "      <th>765</th>\n",
              "      <th>767</th>\n",
              "      <th>769</th>\n",
              "      <th>770</th>\n",
              "      <th>772</th>\n",
              "      <th>774</th>\n",
              "      <th>776</th>\n",
              "      <th>778</th>\n",
              "    </tr>\n",
              "  </thead>\n",
              "  <tbody>\n",
              "    <tr>\n",
              "      <th>0</th>\n",
              "      <td>-0.028680</td>\n",
              "      <td>0.101028</td>\n",
              "      <td>-0.015659</td>\n",
              "      <td>-0.000251</td>\n",
              "      <td>-0.132270</td>\n",
              "      <td>0.113950</td>\n",
              "      <td>-0.005962</td>\n",
              "      <td>0.138570</td>\n",
              "      <td>0.076516</td>\n",
              "      <td>-0.058373</td>\n",
              "      <td>...</td>\n",
              "      <td>-0.040672</td>\n",
              "      <td>-0.039876</td>\n",
              "      <td>-0.040118</td>\n",
              "      <td>-0.039145</td>\n",
              "      <td>-0.039305</td>\n",
              "      <td>-0.038715</td>\n",
              "      <td>-0.038725</td>\n",
              "      <td>-0.037233</td>\n",
              "      <td>-0.038276</td>\n",
              "      <td>-0.038116</td>\n",
              "    </tr>\n",
              "    <tr>\n",
              "      <th>1</th>\n",
              "      <td>-0.294113</td>\n",
              "      <td>0.773131</td>\n",
              "      <td>0.059828</td>\n",
              "      <td>1.072176</td>\n",
              "      <td>-0.234672</td>\n",
              "      <td>-0.045167</td>\n",
              "      <td>-0.065729</td>\n",
              "      <td>0.122814</td>\n",
              "      <td>-0.017854</td>\n",
              "      <td>0.098853</td>\n",
              "      <td>...</td>\n",
              "      <td>-0.040431</td>\n",
              "      <td>-0.040190</td>\n",
              "      <td>-0.040709</td>\n",
              "      <td>-0.039878</td>\n",
              "      <td>-0.038897</td>\n",
              "      <td>-0.038328</td>\n",
              "      <td>-0.038523</td>\n",
              "      <td>-0.037338</td>\n",
              "      <td>-0.038427</td>\n",
              "      <td>-0.037824</td>\n",
              "    </tr>\n",
              "    <tr>\n",
              "      <th>2</th>\n",
              "      <td>0.001663</td>\n",
              "      <td>-0.126354</td>\n",
              "      <td>0.064545</td>\n",
              "      <td>-0.048852</td>\n",
              "      <td>-0.054452</td>\n",
              "      <td>-0.115714</td>\n",
              "      <td>0.016753</td>\n",
              "      <td>0.075891</td>\n",
              "      <td>0.110887</td>\n",
              "      <td>-0.021923</td>\n",
              "      <td>...</td>\n",
              "      <td>-0.041005</td>\n",
              "      <td>-0.040167</td>\n",
              "      <td>-0.040604</td>\n",
              "      <td>-0.039305</td>\n",
              "      <td>-0.039007</td>\n",
              "      <td>-0.038554</td>\n",
              "      <td>-0.038805</td>\n",
              "      <td>-0.037213</td>\n",
              "      <td>-0.037898</td>\n",
              "      <td>-0.037236</td>\n",
              "    </tr>\n",
              "    <tr>\n",
              "      <th>3</th>\n",
              "      <td>0.001173</td>\n",
              "      <td>-0.008331</td>\n",
              "      <td>0.060772</td>\n",
              "      <td>0.180236</td>\n",
              "      <td>0.068876</td>\n",
              "      <td>0.019446</td>\n",
              "      <td>0.016239</td>\n",
              "      <td>-0.006113</td>\n",
              "      <td>0.169747</td>\n",
              "      <td>-0.121387</td>\n",
              "      <td>...</td>\n",
              "      <td>-0.040089</td>\n",
              "      <td>-0.039510</td>\n",
              "      <td>-0.039628</td>\n",
              "      <td>-0.038476</td>\n",
              "      <td>-0.038185</td>\n",
              "      <td>-0.038010</td>\n",
              "      <td>-0.038275</td>\n",
              "      <td>-0.037332</td>\n",
              "      <td>-0.037473</td>\n",
              "      <td>-0.036803</td>\n",
              "    </tr>\n",
              "    <tr>\n",
              "      <th>4</th>\n",
              "      <td>-0.052175</td>\n",
              "      <td>-0.051191</td>\n",
              "      <td>0.122409</td>\n",
              "      <td>-0.048339</td>\n",
              "      <td>-0.011494</td>\n",
              "      <td>0.019095</td>\n",
              "      <td>-0.129859</td>\n",
              "      <td>0.211022</td>\n",
              "      <td>-0.025216</td>\n",
              "      <td>0.272988</td>\n",
              "      <td>...</td>\n",
              "      <td>-0.040374</td>\n",
              "      <td>-0.039547</td>\n",
              "      <td>-0.039957</td>\n",
              "      <td>-0.039306</td>\n",
              "      <td>-0.039130</td>\n",
              "      <td>-0.038660</td>\n",
              "      <td>-0.038484</td>\n",
              "      <td>-0.037391</td>\n",
              "      <td>-0.037963</td>\n",
              "      <td>-0.037701</td>\n",
              "    </tr>\n",
              "  </tbody>\n",
              "</table>\n",
              "<p>5 rows × 243 columns</p>\n",
              "</div>\n",
              "      <button class=\"colab-df-convert\" onclick=\"convertToInteractive('df-27e07b8a-5d96-482a-847b-65b6b11adac0')\"\n",
              "              title=\"Convert this dataframe to an interactive table.\"\n",
              "              style=\"display:none;\">\n",
              "        \n",
              "  <svg xmlns=\"http://www.w3.org/2000/svg\" height=\"24px\"viewBox=\"0 0 24 24\"\n",
              "       width=\"24px\">\n",
              "    <path d=\"M0 0h24v24H0V0z\" fill=\"none\"/>\n",
              "    <path d=\"M18.56 5.44l.94 2.06.94-2.06 2.06-.94-2.06-.94-.94-2.06-.94 2.06-2.06.94zm-11 1L8.5 8.5l.94-2.06 2.06-.94-2.06-.94L8.5 2.5l-.94 2.06-2.06.94zm10 10l.94 2.06.94-2.06 2.06-.94-2.06-.94-.94-2.06-.94 2.06-2.06.94z\"/><path d=\"M17.41 7.96l-1.37-1.37c-.4-.4-.92-.59-1.43-.59-.52 0-1.04.2-1.43.59L10.3 9.45l-7.72 7.72c-.78.78-.78 2.05 0 2.83L4 21.41c.39.39.9.59 1.41.59.51 0 1.02-.2 1.41-.59l7.78-7.78 2.81-2.81c.8-.78.8-2.07 0-2.86zM5.41 20L4 18.59l7.72-7.72 1.47 1.35L5.41 20z\"/>\n",
              "  </svg>\n",
              "      </button>\n",
              "      \n",
              "  <style>\n",
              "    .colab-df-container {\n",
              "      display:flex;\n",
              "      flex-wrap:wrap;\n",
              "      gap: 12px;\n",
              "    }\n",
              "\n",
              "    .colab-df-convert {\n",
              "      background-color: #E8F0FE;\n",
              "      border: none;\n",
              "      border-radius: 50%;\n",
              "      cursor: pointer;\n",
              "      display: none;\n",
              "      fill: #1967D2;\n",
              "      height: 32px;\n",
              "      padding: 0 0 0 0;\n",
              "      width: 32px;\n",
              "    }\n",
              "\n",
              "    .colab-df-convert:hover {\n",
              "      background-color: #E2EBFA;\n",
              "      box-shadow: 0px 1px 2px rgba(60, 64, 67, 0.3), 0px 1px 3px 1px rgba(60, 64, 67, 0.15);\n",
              "      fill: #174EA6;\n",
              "    }\n",
              "\n",
              "    [theme=dark] .colab-df-convert {\n",
              "      background-color: #3B4455;\n",
              "      fill: #D2E3FC;\n",
              "    }\n",
              "\n",
              "    [theme=dark] .colab-df-convert:hover {\n",
              "      background-color: #434B5C;\n",
              "      box-shadow: 0px 1px 3px 1px rgba(0, 0, 0, 0.15);\n",
              "      filter: drop-shadow(0px 1px 2px rgba(0, 0, 0, 0.3));\n",
              "      fill: #FFFFFF;\n",
              "    }\n",
              "  </style>\n",
              "\n",
              "      <script>\n",
              "        const buttonEl =\n",
              "          document.querySelector('#df-27e07b8a-5d96-482a-847b-65b6b11adac0 button.colab-df-convert');\n",
              "        buttonEl.style.display =\n",
              "          google.colab.kernel.accessAllowed ? 'block' : 'none';\n",
              "\n",
              "        async function convertToInteractive(key) {\n",
              "          const element = document.querySelector('#df-27e07b8a-5d96-482a-847b-65b6b11adac0');\n",
              "          const dataTable =\n",
              "            await google.colab.kernel.invokeFunction('convertToInteractive',\n",
              "                                                     [key], {});\n",
              "          if (!dataTable) return;\n",
              "\n",
              "          const docLinkHtml = 'Like what you see? Visit the ' +\n",
              "            '<a target=\"_blank\" href=https://colab.research.google.com/notebooks/data_table.ipynb>data table notebook</a>'\n",
              "            + ' to learn more about interactive tables.';\n",
              "          element.innerHTML = '';\n",
              "          dataTable['output_type'] = 'display_data';\n",
              "          await google.colab.output.renderOutput(dataTable, element);\n",
              "          const docLink = document.createElement('div');\n",
              "          docLink.innerHTML = docLinkHtml;\n",
              "          element.appendChild(docLink);\n",
              "        }\n",
              "      </script>\n",
              "    </div>\n",
              "  </div>\n",
              "  "
            ],
            "text/plain": [
              "        316       318       320       322       324       326       328  \\\n",
              "0 -0.028680  0.101028 -0.015659 -0.000251 -0.132270  0.113950 -0.005962   \n",
              "1 -0.294113  0.773131  0.059828  1.072176 -0.234672 -0.045167 -0.065729   \n",
              "2  0.001663 -0.126354  0.064545 -0.048852 -0.054452 -0.115714  0.016753   \n",
              "3  0.001173 -0.008331  0.060772  0.180236  0.068876  0.019446  0.016239   \n",
              "4 -0.052175 -0.051191  0.122409 -0.048339 -0.011494  0.019095 -0.129859   \n",
              "\n",
              "        330       332       334  ...       761       763       765       767  \\\n",
              "0  0.138570  0.076516 -0.058373  ... -0.040672 -0.039876 -0.040118 -0.039145   \n",
              "1  0.122814 -0.017854  0.098853  ... -0.040431 -0.040190 -0.040709 -0.039878   \n",
              "2  0.075891  0.110887 -0.021923  ... -0.041005 -0.040167 -0.040604 -0.039305   \n",
              "3 -0.006113  0.169747 -0.121387  ... -0.040089 -0.039510 -0.039628 -0.038476   \n",
              "4  0.211022 -0.025216  0.272988  ... -0.040374 -0.039547 -0.039957 -0.039306   \n",
              "\n",
              "        769       770       772       774       776       778  \n",
              "0 -0.039305 -0.038715 -0.038725 -0.037233 -0.038276 -0.038116  \n",
              "1 -0.038897 -0.038328 -0.038523 -0.037338 -0.038427 -0.037824  \n",
              "2 -0.039007 -0.038554 -0.038805 -0.037213 -0.037898 -0.037236  \n",
              "3 -0.038185 -0.038010 -0.038275 -0.037332 -0.037473 -0.036803  \n",
              "4 -0.039130 -0.038660 -0.038484 -0.037391 -0.037963 -0.037701  \n",
              "\n",
              "[5 rows x 243 columns]"
            ]
          },
          "metadata": {},
          "execution_count": 78
        }
      ]
    }
  ]
}